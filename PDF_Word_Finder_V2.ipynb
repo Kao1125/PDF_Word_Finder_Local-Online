{
 "cells": [
  {
   "cell_type": "code",
   "execution_count": 2,
   "id": "c94c23a8",
   "metadata": {},
   "outputs": [
    {
     "name": "stdout",
     "output_type": "stream",
     "text": [
      "Enter '1' for online URL or '2' for local file path: 2\n",
      "Enter the path to the folder that contains the PDF files: C:\\RC\\Year 3\\Term 2\\CPE361\\Inter\n",
      "Enter the word to find: geometric\n",
      "The word 'geometric' was found in the following PDFs:\n",
      "The word 'geometric' was found 2 time(s) in the PDF 'C:\\RC\\Year 3\\Term 2\\CPE361\\Inter\\3D Projection.pdf'.\n",
      "The word 'geometric' was found 10 time(s) in the PDF 'C:\\RC\\Year 3\\Term 2\\CPE361\\Inter\\CHAP-III.pdf'.\n",
      "The word 'geometric' was found 3 time(s) in the PDF 'C:\\RC\\Year 3\\Term 2\\CPE361\\Inter\\Chapter 5 Viewing in 3D.pdf'.\n",
      "The word 'geometric' was found 4 time(s) in the PDF 'C:\\RC\\Year 3\\Term 2\\CPE361\\Inter\\CPE361 3D Transformation.pdf'.\n"
     ]
    }
   ],
   "source": [
    "import io\n",
    "import PyPDF2\n",
    "import re\n",
    "import glob\n",
    "import math\n",
    "import requests\n",
    "\n",
    "# Convert PDF to text\n",
    "def convert_pdf_to_txt(path):\n",
    "    text = \"\"\n",
    "    with open(path, 'rb') as file:\n",
    "        reader = PyPDF2.PdfReader(file)\n",
    "        for page in reader.pages:\n",
    "            text += page.extract_text()\n",
    "    return text\n",
    "\n",
    "# Find a word in PDF files\n",
    "def find_word_in_pdf(files, word):\n",
    "    occurrences = []\n",
    "    for file in files:\n",
    "        text = convert_pdf_to_txt(file)\n",
    "        matches = re.findall(r'\\b{}\\b'.format(word), text, re.IGNORECASE)\n",
    "        num_occurrences = len(matches)\n",
    "        if num_occurrences > 0:\n",
    "            occurrences.append((file, num_occurrences))\n",
    "    return occurrences\n",
    "\n",
    "# Main code\n",
    "input_source = input(\"Enter '1' for online URL or '2' for local file path: \")\n",
    "\n",
    "# If-elif-else for choosing pdf source (1) or (2)\n",
    "if input_source == '1':\n",
    "    url = input(\"Enter the URL: \")\n",
    "    input_data = requests.get(url).text\n",
    "    files = []  # Initialize an empty list for files\n",
    "elif input_source == '2':\n",
    "    path = input(\"Enter the path to the folder that contains the PDF files: \")\n",
    "    pathlen = len(path)\n",
    "    # Get the path of every PDF in the folder\n",
    "    files = [f for f in glob.glob(path + \"**/*.pdf\")]\n",
    "    input_data = None\n",
    "else:\n",
    "    print(\"Invalid input source.\") #Erroe Source\n",
    "    exit()\n",
    "\n",
    "# URL is chosen (1)\n",
    "if input_source == '1' and input_data:\n",
    "    word_to_find = input(\"Enter the word to find: \")\n",
    "    occurrences = find_word_in_pdf(files, word_to_find)\n",
    "\n",
    "    if len(occurrences) > 0:\n",
    "        print(\"The word '{}' was found in the following PDFs:\".format(word_to_find))\n",
    "        for occurrence in occurrences:\n",
    "            print(\"The word '{}' was found {} time(s) in the PDF '{}'.\".format(word_to_find, occurrence[1], occurrence[0]))\n",
    "    else:\n",
    "        print(\"The word '{}' was not found in any PDF.\".format(word_to_find))\n",
    "\n",
    "# Local file path is chosen (2)\n",
    "elif input_source == '2':\n",
    "    word_to_find = input(\"Enter the word to find: \")\n",
    "    occurrences = find_word_in_pdf(files, word_to_find)\n",
    "\n",
    "    if len(occurrences) > 0:\n",
    "        print(\"The word '{}' was found in the following PDFs:\".format(word_to_find))\n",
    "        for occurrence in occurrences:\n",
    "            print(\"The word '{}' was found {} time(s) in the PDF '{}'.\".format(word_to_find, occurrence[1], occurrence[0]))\n",
    "    else:\n",
    "        print(\"The word '{}' was not found in any PDF.\".format(word_to_find))\n",
    "else:\n",
    "    print(\"No input data retrieved.\")\n"
   ]
  },
  {
   "cell_type": "code",
   "execution_count": null,
   "id": "4a378485",
   "metadata": {},
   "outputs": [],
   "source": []
  }
 ],
 "metadata": {
  "kernelspec": {
   "display_name": "Python 3 (ipykernel)",
   "language": "python",
   "name": "python3"
  },
  "language_info": {
   "codemirror_mode": {
    "name": "ipython",
    "version": 3
   },
   "file_extension": ".py",
   "mimetype": "text/x-python",
   "name": "python",
   "nbconvert_exporter": "python",
   "pygments_lexer": "ipython3",
   "version": "3.9.13"
  }
 },
 "nbformat": 4,
 "nbformat_minor": 5
}
