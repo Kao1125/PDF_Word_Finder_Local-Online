{
 "cells": [
  {
   "cell_type": "code",
   "execution_count": 4,
   "id": "51def6ad",
   "metadata": {},
   "outputs": [
    {
     "name": "stdout",
     "output_type": "stream",
     "text": [
      "Enter '1' for online URL or '2' for local file path: 2\n",
      "Enter the path to the folder that contains the PDF files: C:\\RC\\Year 3\\Term 2\\CPE361\\Inter\n",
      "Enter the word to find: geometric\n",
      "The word 'geometric' was found 19 time(s) in the PDFs.\n"
     ]
    }
   ],
   "source": [
    "import io\n",
    "import PyPDF2\n",
    "import re\n",
    "import glob\n",
    "import math\n",
    "import requests\n",
    "\n",
    "# Convert PDF to text\n",
    "def convert_pdf_to_txt(path):\n",
    "    text = \"\"\n",
    "    with open(path, 'rb') as file:\n",
    "        reader = PyPDF2.PdfReader(file)\n",
    "        for page in reader.pages:\n",
    "            text += page.extract_text()\n",
    "    return text\n",
    "\n",
    "# Find a word in PDF files\n",
    "def find_word_in_pdf(files, word):\n",
    "    num_occurrences = 0\n",
    "    for file in files:\n",
    "        text = convert_pdf_to_txt(file)\n",
    "        matches = re.findall(r'\\b{}\\b'.format(word), text, re.IGNORECASE)\n",
    "        num_occurrences += len(matches)\n",
    "    return num_occurrences\n",
    "\n",
    "# Main code\n",
    "input_source = input(\"Enter '1' for online URL or '2' for local file path: \")\n",
    "\n",
    "# If-elif-else for choosing pdf source (1) or (2)\n",
    "if input_source == '1':\n",
    "    url = input(\"Enter the URL: \")\n",
    "    input_data = requests.get(url).text\n",
    "elif input_source == '2':\n",
    "    path = input(\"Enter the path to the folder that contains the PDF files: \")\n",
    "    pathlen = len(path)\n",
    "    # Get the path of every PDF in the folder\n",
    "    files = [f for f in glob.glob(path + \"**/*.pdf\")]\n",
    "else:\n",
    "    print(\"Invalid input source.\") #Error source\n",
    "    exit()\n",
    "\n",
    "# URL is chosen (1)\n",
    "if input_source == '1' and input_data:\n",
    "    word_to_find = input(\"Enter the word to find: \")\n",
    "    num_occurrences = find_word_in_pdf(files, word_to_find)\n",
    "\n",
    "    if num_occurrences > 0:\n",
    "        print(\"The word '{}' was found {} time(s) in the PDFs.\".format(word_to_find, num_occurrences))\n",
    "    else:\n",
    "        print(\"The word '{}' was not found in any PDF.\".format(word_to_find))\n",
    "        \n",
    "# Local file path is chosen (2)\n",
    "elif input_source == '2':\n",
    "    word_to_find = input(\"Enter the word to find: \")\n",
    "    num_occurrences = find_word_in_pdf(files, word_to_find)\n",
    "\n",
    "    if num_occurrences > 0:\n",
    "        print(\"The word '{}' was found {} time(s) in the PDFs.\".format(word_to_find, num_occurrences))\n",
    "    else:\n",
    "        print(\"The word '{}' was not found in any PDF.\".format(word_to_find))\n",
    "else:\n",
    "    print(\"No input data retrieved.\")\n"
   ]
  },
  {
   "cell_type": "code",
   "execution_count": null,
   "id": "146c8586",
   "metadata": {},
   "outputs": [],
   "source": []
  }
 ],
 "metadata": {
  "kernelspec": {
   "display_name": "Python 3 (ipykernel)",
   "language": "python",
   "name": "python3"
  },
  "language_info": {
   "codemirror_mode": {
    "name": "ipython",
    "version": 3
   },
   "file_extension": ".py",
   "mimetype": "text/x-python",
   "name": "python",
   "nbconvert_exporter": "python",
   "pygments_lexer": "ipython3",
   "version": "3.9.13"
  }
 },
 "nbformat": 4,
 "nbformat_minor": 5
}
